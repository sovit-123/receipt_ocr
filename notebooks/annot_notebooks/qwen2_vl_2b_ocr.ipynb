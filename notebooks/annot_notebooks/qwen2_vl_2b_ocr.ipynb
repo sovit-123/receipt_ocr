{
 "cells": [
  {
   "cell_type": "markdown",
   "id": "b5890b28-1b18-45ae-b2a4-eec4eb3771cd",
   "metadata": {},
   "source": [
    "# Introduction\n",
    "\n",
    "Using the Qwen2-VL model to generate ground truth OCR data for SROIEv2 dataset."
   ]
  },
  {
   "cell_type": "code",
   "execution_count": 1,
   "id": "914cae9a-fd02-484f-a8ff-f67fd185f772",
   "metadata": {},
   "outputs": [],
   "source": [
    "from transformers import Qwen2VLForConditionalGeneration, AutoTokenizer, AutoProcessor\n",
    "from qwen_vl_utils import process_vision_info\n",
    "from transformers import BitsAndBytesConfig\n",
    "from tqdm.auto import tqdm\n",
    "from torch.utils.data import Dataset, DataLoader\n",
    "\n",
    "import torch\n",
    "import glob\n",
    "import os"
   ]
  },
  {
   "cell_type": "code",
   "execution_count": 2,
   "id": "f60f61b6-e5d6-412f-9e6e-dce40856238b",
   "metadata": {},
   "outputs": [
    {
     "data": {
      "application/vnd.jupyter.widget-view+json": {
       "model_id": "ad69b4731b0b49339c2dba147c9548c6",
       "version_major": 2,
       "version_minor": 0
      },
      "text/plain": [
       "Loading checkpoint shards:   0%|          | 0/2 [00:00<?, ?it/s]"
      ]
     },
     "metadata": {},
     "output_type": "display_data"
    },
    {
     "name": "stderr",
     "output_type": "stream",
     "text": [
      "Using a slow image processor as `use_fast` is unset and a slow processor was saved with this model. `use_fast=True` will be the default behavior in v4.50, even if the model was saved with a slow processor. This will result in minor differences in outputs. You'll still be able to use a slow processor with `use_fast=False`.\n"
     ]
    }
   ],
   "source": [
    "# flash_attention_2 for better acceleration and memory saving. Great for batched inference.\n",
    "model = Qwen2VLForConditionalGeneration.from_pretrained(\n",
    "    \"Qwen/Qwen2-VL-2B-Instruct\",\n",
    "    torch_dtype=torch.bfloat16,\n",
    "    attn_implementation=\"flash_attention_2\",\n",
    "    device_map=\"auto\"\n",
    ")\n",
    "\n",
    "# Load processor\n",
    "processor = AutoProcessor.from_pretrained(\"Qwen/Qwen2-VL-2B-Instruct\")"
   ]
  },
  {
   "cell_type": "code",
   "execution_count": 3,
   "id": "10c3583e-1d66-439b-a607-ada849f129a6",
   "metadata": {},
   "outputs": [],
   "source": [
    "image_paths_list = [\n",
    "    '../../input/sroie_v2/SROIE2019/train/img/*.jpg', # Train.\n",
    "    '../../input/sroie_v2/SROIE2019/test/img/*.jpg' # Test\n",
    "] "
   ]
  },
  {
   "cell_type": "code",
   "execution_count": 4,
   "id": "3276d52d-dc9c-440d-97fa-446a7f9cac5c",
   "metadata": {},
   "outputs": [],
   "source": [
    "out_dir_list = [\n",
    "    '../../input/qwen2_vl_2b_annots/qwen2_vl_2b_sroiev2_train_annots', #Train\n",
    "    '../../input/qwen2_vl_2b_annots/qwen2_vl_2b_sroiev2_test_annots' # Test\n",
    "]"
   ]
  },
  {
   "cell_type": "markdown",
   "id": "b68e64bf-8df8-4040-b553-b5c73eba5be5",
   "metadata": {},
   "source": [
    "## Batch Inference"
   ]
  },
  {
   "cell_type": "markdown",
   "id": "990b9742-8fc8-4b67-8bfa-823f2b3337a6",
   "metadata": {},
   "source": [
    "Batch processing example\n",
    "```python\n",
    "messages1 = [\n",
    "    {\n",
    "        \"role\": \"user\",\n",
    "        \"content\": [\n",
    "            {\"type\": \"image\", \"image\": \"file:///path/to/image1.jpg\"},\n",
    "            {\"type\": \"image\", \"image\": \"file:///path/to/image2.jpg\"},\n",
    "            {\"type\": \"text\", \"text\": \"What are the common elements in these pictures?\"},\n",
    "        ],\n",
    "    }\n",
    "]\n",
    "messages2 = [\n",
    "    {\"role\": \"system\", \"content\": \"You are a helpful assistant.\"},\n",
    "    {\"role\": \"user\", \"content\": \"Who are you?\"},\n",
    "]\n",
    "# Combine messages for batch processing\n",
    "messages = [messages1, messages1]\n",
    "```"
   ]
  },
  {
   "cell_type": "code",
   "execution_count": 5,
   "id": "523f2988-d945-41ce-8d07-42ecc18a8123",
   "metadata": {},
   "outputs": [],
   "source": [
    "def batch_infer(messages):\n",
    "    # Preparation for inference\n",
    "    texts = [\n",
    "            processor.apply_chat_template(\n",
    "            msg, tokenize=False, add_generation_prompt=True\n",
    "        )\n",
    "        for msg in messages\n",
    "    ]\n",
    "    \n",
    "    image_inputs, video_inputs = process_vision_info(messages)\n",
    "    \n",
    "    inputs = processor(\n",
    "        text=texts,\n",
    "        images=image_inputs,\n",
    "        videos=video_inputs,\n",
    "        padding=True,\n",
    "        return_tensors=\"pt\"\n",
    "    )\n",
    "    inputs = inputs.to(\"cuda\")\n",
    "    \n",
    "    # Inference: Generation of the output\n",
    "    generated_ids = model.generate(**inputs, max_new_tokens=1024)\n",
    "    generated_ids_trimmed = [\n",
    "        out_ids[len(in_ids) :] for in_ids, out_ids in zip(inputs.input_ids, generated_ids)\n",
    "    ]\n",
    "    output_text = processor.batch_decode(\n",
    "        generated_ids_trimmed, skip_special_tokens=True, clean_up_tokenization_spaces=False\n",
    "    )\n",
    "    # print(output_text)\n",
    "    return output_text"
   ]
  },
  {
   "cell_type": "code",
   "execution_count": 6,
   "id": "941a849e-2258-45c5-ad2a-6fe7f1be0280",
   "metadata": {},
   "outputs": [],
   "source": [
    "batch_size = 16"
   ]
  },
  {
   "cell_type": "code",
   "execution_count": 7,
   "id": "33bcda80-2c1c-4940-bcf5-bd530dca743e",
   "metadata": {},
   "outputs": [],
   "source": [
    "class BatchedDataset(Dataset):\n",
    "    def __init__(self, all_images):\n",
    "        self.all_images = all_images\n",
    "\n",
    "    def __len__(self):\n",
    "        return len(self.all_images)\n",
    "\n",
    "    def __getitem__(self, idx):\n",
    "        return self.all_images[idx]"
   ]
  },
  {
   "cell_type": "code",
   "execution_count": 8,
   "id": "5848aea6-40e0-4e19-9e5c-d239165db777",
   "metadata": {},
   "outputs": [
    {
     "name": "stdout",
     "output_type": "stream",
     "text": [
      "####### Sample paths #######\n",
      "['../../input/sroie_v2/SROIE2019/train/img/X51006392122.jpg', '../../input/sroie_v2/SROIE2019/train/img/X00016469612.jpg', '../../input/sroie_v2/SROIE2019/train/img/X00016469619.jpg', '../../input/sroie_v2/SROIE2019/train/img/X00016469620.jpg', '../../input/sroie_v2/SROIE2019/train/img/X00016469622.jpg', '../../input/sroie_v2/SROIE2019/train/img/X00016469623.jpg', '../../input/sroie_v2/SROIE2019/train/img/X00016469669.jpg', '../../input/sroie_v2/SROIE2019/train/img/X00016469672.jpg', '../../input/sroie_v2/SROIE2019/train/img/X00016469676.jpg', '../../input/sroie_v2/SROIE2019/train/img/X51005200938.jpg', '../../input/sroie_v2/SROIE2019/train/img/X51005230617.jpg', '../../input/sroie_v2/SROIE2019/train/img/X51005255805.jpg', '../../input/sroie_v2/SROIE2019/train/img/X51005268200.jpg', '../../input/sroie_v2/SROIE2019/train/img/X51005268262.jpg', '../../input/sroie_v2/SROIE2019/train/img/X51005268400.jpg', '../../input/sroie_v2/SROIE2019/train/img/X51005268472.jpg']\n",
      "####### Sample paths #######\n"
     ]
    },
    {
     "data": {
      "application/vnd.jupyter.widget-view+json": {
       "model_id": "18c6c15825bb4bfb88c5fc4ead148dbd",
       "version_major": 2,
       "version_minor": 0
      },
      "text/plain": [
       "  0%|          | 0/40 [00:00<?, ?it/s]"
      ]
     },
     "metadata": {},
     "output_type": "display_data"
    },
    {
     "name": "stdout",
     "output_type": "stream",
     "text": [
      "####### Sample paths #######\n",
      "['../../input/sroie_v2/SROIE2019/test/img/X00016469670.jpg', '../../input/sroie_v2/SROIE2019/test/img/X00016469671.jpg', '../../input/sroie_v2/SROIE2019/test/img/X51005200931.jpg', '../../input/sroie_v2/SROIE2019/test/img/X51005230605.jpg', '../../input/sroie_v2/SROIE2019/test/img/X51005230616.jpg', '../../input/sroie_v2/SROIE2019/test/img/X51005230621.jpg', '../../input/sroie_v2/SROIE2019/test/img/X51005230648.jpg', '../../input/sroie_v2/SROIE2019/test/img/X51005230657.jpg', '../../input/sroie_v2/SROIE2019/test/img/X51005230659.jpg', '../../input/sroie_v2/SROIE2019/test/img/X51005268275.jpg', '../../input/sroie_v2/SROIE2019/test/img/X51005268408.jpg', '../../input/sroie_v2/SROIE2019/test/img/X51005288570.jpg', '../../input/sroie_v2/SROIE2019/test/img/X51005301666.jpg', '../../input/sroie_v2/SROIE2019/test/img/X51005337867.jpg', '../../input/sroie_v2/SROIE2019/test/img/X51005337877.jpg', '../../input/sroie_v2/SROIE2019/test/img/X51005361906.jpg']\n",
      "####### Sample paths #######\n"
     ]
    },
    {
     "data": {
      "application/vnd.jupyter.widget-view+json": {
       "model_id": "3a4ad8deb4df4b9cb0e309784ca25e34",
       "version_major": 2,
       "version_minor": 0
      },
      "text/plain": [
       "  0%|          | 0/22 [00:00<?, ?it/s]"
      ]
     },
     "metadata": {},
     "output_type": "display_data"
    }
   ],
   "source": [
    "for image_path, out_dir in zip(image_paths_list, out_dir_list):\n",
    "    all_images = glob.glob(image_path)\n",
    "    os.makedirs(out_dir, exist_ok=True)\n",
    "    \n",
    "    custom_dataset = BatchedDataset(all_images)\n",
    "    \n",
    "    batch_dl = DataLoader(custom_dataset, batch_size=batch_size, shuffle=False)\n",
    "    \n",
    "    print('####### Sample paths #######')\n",
    "    for i in batch_dl:\n",
    "        print(i)\n",
    "        break\n",
    "    print('####### Sample paths #######')\n",
    "    \n",
    "    for batch in tqdm(batch_dl, total=len(batch_dl)):\n",
    "        messages = []\n",
    "        \n",
    "        for image_path in batch:\n",
    "            message = [\n",
    "                {\n",
    "                    \"role\": \"user\",\n",
    "                    \"content\": [\n",
    "                        {\n",
    "                            \"type\": \"image\",\n",
    "                            \"image\": image_path,\n",
    "                            \"resized_height\": 768,\n",
    "                            \"resized_width\": 512,\n",
    "                        },\n",
    "                        {\"type\": \"text\", \"text\": \"Give the OCR text from this image and nothing else.\"},\n",
    "                    ],\n",
    "                }\n",
    "            ]\n",
    "            messages.append(message)\n",
    "    \n",
    "        texts = batch_infer(messages)\n",
    "    \n",
    "        for text, image_path in zip(texts, batch):\n",
    "            # print(text)\n",
    "            with open(os.path.join(out_dir, image_path.split(os.path.sep)[-1].split('.jpg')[0]+'.txt'), 'w') as f:\n",
    "                f.write(text)"
   ]
  },
  {
   "cell_type": "code",
   "execution_count": null,
   "id": "f970f162-46a9-4b16-9b84-d3ec8bc646f3",
   "metadata": {},
   "outputs": [],
   "source": []
  }
 ],
 "metadata": {
  "kernelspec": {
   "display_name": "Python 3 (ipykernel)",
   "language": "python",
   "name": "python3"
  },
  "language_info": {
   "codemirror_mode": {
    "name": "ipython",
    "version": 3
   },
   "file_extension": ".py",
   "mimetype": "text/x-python",
   "name": "python",
   "nbconvert_exporter": "python",
   "pygments_lexer": "ipython3",
   "version": "3.11.11"
  }
 },
 "nbformat": 4,
 "nbformat_minor": 5
}
