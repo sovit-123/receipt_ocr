{
 "cells": [
  {
   "cell_type": "markdown",
   "id": "b5890b28-1b18-45ae-b2a4-eec4eb3771cd",
   "metadata": {},
   "source": [
    "# Introduction\n",
    "\n",
    "Using the Qwen2.5-VL 3B model to generate ground truth OCR data for SROIEv2 dataset."
   ]
  },
  {
   "cell_type": "code",
   "execution_count": 1,
   "id": "914cae9a-fd02-484f-a8ff-f67fd185f772",
   "metadata": {},
   "outputs": [],
   "source": [
    "from transformers import Qwen2_5_VLForConditionalGeneration, AutoTokenizer, AutoProcessor\n",
    "from qwen_vl_utils import process_vision_info\n",
    "from transformers import BitsAndBytesConfig\n",
    "from tqdm.auto import tqdm\n",
    "from torch.utils.data import Dataset, DataLoader\n",
    "\n",
    "import torch\n",
    "import glob\n",
    "import os"
   ]
  },
  {
   "cell_type": "code",
   "execution_count": 2,
   "id": "f60f61b6-e5d6-412f-9e6e-dce40856238b",
   "metadata": {},
   "outputs": [
    {
     "data": {
      "application/vnd.jupyter.widget-view+json": {
       "model_id": "7200a7c5339a4acabc44d6ba23a10be9",
       "version_major": 2,
       "version_minor": 0
      },
      "text/plain": [
       "Loading checkpoint shards:   0%|          | 0/2 [00:00<?, ?it/s]"
      ]
     },
     "metadata": {},
     "output_type": "display_data"
    },
    {
     "name": "stderr",
     "output_type": "stream",
     "text": [
      "Using a slow image processor as `use_fast` is unset and a slow processor was saved with this model. `use_fast=True` will be the default behavior in v4.50, even if the model was saved with a slow processor. This will result in minor differences in outputs. You'll still be able to use a slow processor with `use_fast=False`.\n"
     ]
    }
   ],
   "source": [
    "model_id = 'Qwen/Qwen2.5-VL-3B-Instruct'\n",
    "\n",
    "# flash_attention_2 for better acceleration and memory saving. Great for batched inference.\n",
    "model = Qwen2_5_VLForConditionalGeneration.from_pretrained(\n",
    "    model_id,\n",
    "    torch_dtype=torch.bfloat16,\n",
    "    attn_implementation=\"flash_attention_2\",\n",
    "    device_map=\"auto\"\n",
    ")\n",
    "\n",
    "# Load processor\n",
    "processor = AutoProcessor.from_pretrained(model_id)"
   ]
  },
  {
   "cell_type": "code",
   "execution_count": 3,
   "id": "10c3583e-1d66-439b-a607-ada849f129a6",
   "metadata": {},
   "outputs": [],
   "source": [
    "image_paths_list = [\n",
    "    '../../input/sroie_v2/SROIE2019/train/img/*.jpg', # Train.\n",
    "    '../../input/sroie_v2/SROIE2019/test/img/*.jpg' # Test\n",
    "] "
   ]
  },
  {
   "cell_type": "code",
   "execution_count": 4,
   "id": "3276d52d-dc9c-440d-97fa-446a7f9cac5c",
   "metadata": {},
   "outputs": [],
   "source": [
    "out_dir_list = [\n",
    "    '../../input/qwen2_5_vl_3b_annots/train_annots', #Train\n",
    "    '../../input/qwen2_5_vl_3b_annots/test_annots' # Test\n",
    "]"
   ]
  },
  {
   "cell_type": "markdown",
   "id": "b68e64bf-8df8-4040-b553-b5c73eba5be5",
   "metadata": {},
   "source": [
    "## Batch Inference"
   ]
  },
  {
   "cell_type": "markdown",
   "id": "990b9742-8fc8-4b67-8bfa-823f2b3337a6",
   "metadata": {},
   "source": [
    "Batch processing example\n",
    "```python\n",
    "messages1 = [\n",
    "    {\n",
    "        \"role\": \"user\",\n",
    "        \"content\": [\n",
    "            {\"type\": \"image\", \"image\": \"file:///path/to/image1.jpg\"},\n",
    "            {\"type\": \"image\", \"image\": \"file:///path/to/image2.jpg\"},\n",
    "            {\"type\": \"text\", \"text\": \"What are the common elements in these pictures?\"},\n",
    "        ],\n",
    "    }\n",
    "]\n",
    "messages2 = [\n",
    "    {\"role\": \"system\", \"content\": \"You are a helpful assistant.\"},\n",
    "    {\"role\": \"user\", \"content\": \"Who are you?\"},\n",
    "]\n",
    "# Combine messages for batch processing\n",
    "messages = [messages1, messages1]\n",
    "```"
   ]
  },
  {
   "cell_type": "code",
   "execution_count": 5,
   "id": "523f2988-d945-41ce-8d07-42ecc18a8123",
   "metadata": {},
   "outputs": [],
   "source": [
    "def batch_infer(messages):\n",
    "    # Preparation for inference\n",
    "    texts = [\n",
    "            processor.apply_chat_template(\n",
    "            msg, tokenize=False, add_generation_prompt=True\n",
    "        )\n",
    "        for msg in messages\n",
    "    ]\n",
    "    \n",
    "    image_inputs, video_inputs = process_vision_info(messages)\n",
    "    \n",
    "    inputs = processor(\n",
    "        text=texts,\n",
    "        images=image_inputs,\n",
    "        videos=video_inputs,\n",
    "        padding=True,\n",
    "        return_tensors=\"pt\"\n",
    "    )\n",
    "    inputs = inputs.to(\"cuda\")\n",
    "    \n",
    "    # Inference: Generation of the output\n",
    "    generated_ids = model.generate(**inputs, max_new_tokens=1024)\n",
    "    generated_ids_trimmed = [\n",
    "        out_ids[len(in_ids) :] for in_ids, out_ids in zip(inputs.input_ids, generated_ids)\n",
    "    ]\n",
    "    output_text = processor.batch_decode(\n",
    "        generated_ids_trimmed, skip_special_tokens=True, clean_up_tokenization_spaces=False\n",
    "    )\n",
    "    # print(output_text)\n",
    "    return output_text"
   ]
  },
  {
   "cell_type": "code",
   "execution_count": 6,
   "id": "941a849e-2258-45c5-ad2a-6fe7f1be0280",
   "metadata": {},
   "outputs": [],
   "source": [
    "batch_size = 6"
   ]
  },
  {
   "cell_type": "code",
   "execution_count": 7,
   "id": "33bcda80-2c1c-4940-bcf5-bd530dca743e",
   "metadata": {},
   "outputs": [],
   "source": [
    "class BatchedDataset(Dataset):\n",
    "    def __init__(self, all_images):\n",
    "        self.all_images = all_images\n",
    "\n",
    "    def __len__(self):\n",
    "        return len(self.all_images)\n",
    "\n",
    "    def __getitem__(self, idx):\n",
    "        return self.all_images[idx]"
   ]
  },
  {
   "cell_type": "code",
   "execution_count": null,
   "id": "5848aea6-40e0-4e19-9e5c-d239165db777",
   "metadata": {},
   "outputs": [
    {
     "name": "stdout",
     "output_type": "stream",
     "text": [
      "####### Sample paths #######\n",
      "['../../input/sroie_v2/SROIE2019/train/img/X51006392122.jpg', '../../input/sroie_v2/SROIE2019/train/img/X00016469612.jpg', '../../input/sroie_v2/SROIE2019/train/img/X00016469619.jpg', '../../input/sroie_v2/SROIE2019/train/img/X00016469620.jpg', '../../input/sroie_v2/SROIE2019/train/img/X00016469622.jpg', '../../input/sroie_v2/SROIE2019/train/img/X00016469623.jpg']\n",
      "####### Sample paths #######\n"
     ]
    },
    {
     "data": {
      "application/vnd.jupyter.widget-view+json": {
       "model_id": "dbe47493ca7c4f8898495c1174345112",
       "version_major": 2,
       "version_minor": 0
      },
      "text/plain": [
       "  0%|          | 0/105 [00:00<?, ?it/s]"
      ]
     },
     "metadata": {},
     "output_type": "display_data"
    },
    {
     "name": "stdout",
     "output_type": "stream",
     "text": [
      "####### Sample paths #######\n",
      "['../../input/sroie_v2/SROIE2019/test/img/X00016469670.jpg', '../../input/sroie_v2/SROIE2019/test/img/X00016469671.jpg', '../../input/sroie_v2/SROIE2019/test/img/X51005200931.jpg', '../../input/sroie_v2/SROIE2019/test/img/X51005230605.jpg', '../../input/sroie_v2/SROIE2019/test/img/X51005230616.jpg', '../../input/sroie_v2/SROIE2019/test/img/X51005230621.jpg']\n",
      "####### Sample paths #######\n"
     ]
    },
    {
     "data": {
      "application/vnd.jupyter.widget-view+json": {
       "model_id": "c1ec756040af451aa1444f8124feed78",
       "version_major": 2,
       "version_minor": 0
      },
      "text/plain": [
       "  0%|          | 0/58 [00:00<?, ?it/s]"
      ]
     },
     "metadata": {},
     "output_type": "display_data"
    }
   ],
   "source": [
    "for image_path, out_dir in zip(image_paths_list, out_dir_list):\n",
    "    all_images = glob.glob(image_path)\n",
    "    os.makedirs(out_dir, exist_ok=True)\n",
    "    \n",
    "    custom_dataset = BatchedDataset(all_images)\n",
    "    \n",
    "    batch_dl = DataLoader(custom_dataset, batch_size=batch_size, shuffle=False)\n",
    "    \n",
    "    print('####### Sample paths #######')\n",
    "    for i in batch_dl:\n",
    "        print(i)\n",
    "        break\n",
    "    print('####### Sample paths #######')\n",
    "    \n",
    "    for batch in tqdm(batch_dl, total=len(batch_dl)):\n",
    "        messages = []\n",
    "        \n",
    "        for image_path in batch:\n",
    "            message = [\n",
    "                {\n",
    "                    \"role\": \"user\",\n",
    "                    \"content\": [\n",
    "                        {\n",
    "                            \"type\": \"image\",\n",
    "                            \"image\": image_path,\n",
    "                            \"resized_height\": 768,\n",
    "                            \"resized_width\": 512,\n",
    "                        },\n",
    "                        {\"type\": \"text\", \"text\": \"Give the OCR text from this image and nothing else.\"},\n",
    "                    ],\n",
    "                }\n",
    "            ]\n",
    "            messages.append(message)\n",
    "    \n",
    "        texts = batch_infer(messages)\n",
    "    \n",
    "        for text, image_path in zip(texts, batch):\n",
    "            # print(text)\n",
    "            with open(os.path.join(out_dir, image_path.split(os.path.sep)[-1].split('.jpg')[0]+'.txt'), 'w') as f:\n",
    "                f.write(text)"
   ]
  },
  {
   "cell_type": "code",
   "execution_count": null,
   "id": "f970f162-46a9-4b16-9b84-d3ec8bc646f3",
   "metadata": {},
   "outputs": [],
   "source": []
  }
 ],
 "metadata": {
  "kernelspec": {
   "display_name": "Python 3 (ipykernel)",
   "language": "python",
   "name": "python3"
  },
  "language_info": {
   "codemirror_mode": {
    "name": "ipython",
    "version": 3
   },
   "file_extension": ".py",
   "mimetype": "text/x-python",
   "name": "python",
   "nbconvert_exporter": "python",
   "pygments_lexer": "ipython3",
   "version": "3.11.11"
  }
 },
 "nbformat": 4,
 "nbformat_minor": 5
}
