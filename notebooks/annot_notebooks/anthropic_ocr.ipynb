{
 "cells": [
  {
   "cell_type": "code",
   "execution_count": 1,
   "id": "c933989e-d9bf-4a62-9851-4335cc880af9",
   "metadata": {},
   "outputs": [],
   "source": [
    "import anthropic\n",
    "import os\n",
    "import base64\n",
    "import glob\n",
    "import time\n",
    "\n",
    "from dotenv import load_dotenv\n",
    "from PIL import Image\n",
    "from io import BytesIO\n",
    "from tqdm.auto import tqdm"
   ]
  },
  {
   "cell_type": "code",
   "execution_count": 2,
   "id": "7832a353-2f02-4eaa-91ed-625115667549",
   "metadata": {},
   "outputs": [
    {
     "data": {
      "text/plain": [
       "True"
      ]
     },
     "execution_count": 2,
     "metadata": {},
     "output_type": "execute_result"
    }
   ],
   "source": [
    "load_dotenv()"
   ]
  },
  {
   "cell_type": "code",
   "execution_count": 3,
   "id": "82664164-7ec5-4c40-a965-ddad790c4916",
   "metadata": {},
   "outputs": [],
   "source": [
    "client = anthropic.Anthropic(api_key=os.getenv('ANTHROPIC_API_KEY'))"
   ]
  },
  {
   "cell_type": "code",
   "execution_count": 4,
   "id": "32f5c614-d714-4d9d-8bf6-7d79266373ac",
   "metadata": {},
   "outputs": [],
   "source": [
    "model = 'claude-3-5-haiku-latest'"
   ]
  },
  {
   "cell_type": "code",
   "execution_count": 5,
   "id": "78189e17-96e1-4c49-bfb5-0d07dd9e3a7e",
   "metadata": {},
   "outputs": [],
   "source": [
    "image_paths_list = [\n",
    "    '../../input/sroie_v2/SROIE2019/train/img/*.jpg', # Train.\n",
    "    '../../input/sroie_v2/SROIE2019/test/img/*.jpg' # Test\n",
    "] "
   ]
  },
  {
   "cell_type": "code",
   "execution_count": 6,
   "id": "0134c6cf-bfd5-4968-b2e5-a8164d424229",
   "metadata": {},
   "outputs": [],
   "source": [
    "out_dir_list = [\n",
    "    '../../input/claude35haiku_annots/train_annots', #Train\n",
    "    '../../input/claude35haiku_annots/test_annots' # Test\n",
    "]"
   ]
  },
  {
   "cell_type": "code",
   "execution_count": 7,
   "id": "60ff264d-9c01-4439-b021-f301dd31ac44",
   "metadata": {},
   "outputs": [],
   "source": [
    "prompt = \"\"\"Give the OCR text from this image and nothing else.\"\"\""
   ]
  },
  {
   "cell_type": "code",
   "execution_count": 8,
   "id": "5b5c8195-bc41-4942-92df-401bf25a7c2e",
   "metadata": {},
   "outputs": [
    {
     "data": {
      "application/vnd.jupyter.widget-view+json": {
       "model_id": "ac3d3229837c46bb876f1e852553d5b1",
       "version_major": 2,
       "version_minor": 0
      },
      "text/plain": [
       "  0%|          | 0/626 [00:00<?, ?it/s]"
      ]
     },
     "metadata": {},
     "output_type": "display_data"
    },
    {
     "data": {
      "application/vnd.jupyter.widget-view+json": {
       "model_id": "192dd19598b54163b2c3ac78d3e12d75",
       "version_major": 2,
       "version_minor": 0
      },
      "text/plain": [
       "  0%|          | 0/347 [00:00<?, ?it/s]"
      ]
     },
     "metadata": {},
     "output_type": "display_data"
    }
   ],
   "source": [
    "for image_path_split, out_dir in zip(image_paths_list, out_dir_list):\n",
    "    all_images = glob.glob(image_path_split)\n",
    "    os.makedirs(out_dir, exist_ok=True)\n",
    "\n",
    "    for image_path in tqdm(all_images, total=len(all_images)):\n",
    "        image = Image.open(image_path)\n",
    "        image = image.resize((512, 768))\n",
    "        \n",
    "        buffered = BytesIO()\n",
    "        image.save(buffered, format=\"JPEG\")\n",
    "        img_data = base64.b64encode(buffered.getvalue()).decode('utf-8')\n",
    "        \n",
    "        message = client.messages.create(\n",
    "            model='claude-3-5-haiku-latest',\n",
    "            max_tokens=1024,\n",
    "            messages=[\n",
    "                {\n",
    "                    'role': 'user',\n",
    "                    'content': [\n",
    "                        {\n",
    "                            'type': 'image',\n",
    "                            'source': {\n",
    "                                'type': 'base64',\n",
    "                                'media_type': 'image/jpeg',\n",
    "                                'data': img_data,\n",
    "                            },\n",
    "                        },\n",
    "                        {\n",
    "                            'type': 'text',\n",
    "                            'text': prompt\n",
    "                        }\n",
    "                    ],\n",
    "                }\n",
    "            ],\n",
    "        )\n",
    "\n",
    "        with open(os.path.join(out_dir, image_path.split(os.path.sep)[-1].split('.jpg')[0]+'.txt'), 'w') as f:\n",
    "            f.write(message.content[0].text)\n",
    "    \n",
    "        time.sleep(3)"
   ]
  },
  {
   "cell_type": "code",
   "execution_count": 9,
   "id": "5c026ff2-ffcb-4208-b669-ba2f6e7e685b",
   "metadata": {},
   "outputs": [],
   "source": [
    "# print(message.content[0].text)"
   ]
  },
  {
   "cell_type": "code",
   "execution_count": null,
   "id": "93505e25-8fd0-4d33-bb97-93463e30420e",
   "metadata": {},
   "outputs": [],
   "source": []
  }
 ],
 "metadata": {
  "kernelspec": {
   "display_name": "Python 3 (ipykernel)",
   "language": "python",
   "name": "python3"
  },
  "language_info": {
   "codemirror_mode": {
    "name": "ipython",
    "version": 3
   },
   "file_extension": ".py",
   "mimetype": "text/x-python",
   "name": "python",
   "nbconvert_exporter": "python",
   "pygments_lexer": "ipython3",
   "version": "3.11.11"
  }
 },
 "nbformat": 4,
 "nbformat_minor": 5
}
