{
 "cells": [
  {
   "cell_type": "markdown",
   "id": "bb98b8a1-7366-4e68-a471-b306a3fce6c4",
   "metadata": {},
   "source": [
    "# Introduction\n",
    "\n",
    "In this notebook, we calculate the CER (Character Error Rate) of the Qwen2-VL generated data that we use for fine-tuning by comparing with the box text annotations that comes with the SROIE v2 dataset."
   ]
  },
  {
   "cell_type": "code",
   "execution_count": 1,
   "id": "bf8e72b7-f5a0-4553-b619-fdf31b10717b",
   "metadata": {},
   "outputs": [],
   "source": [
    "import glob\n",
    "import jiwer"
   ]
  },
  {
   "cell_type": "code",
   "execution_count": 2,
   "id": "59a4f490-4f16-4325-9f35-74efc55a69ee",
   "metadata": {},
   "outputs": [
    {
     "name": "stdout",
     "output_type": "stream",
     "text": [
      "626\n",
      "347\n"
     ]
    }
   ],
   "source": [
    "# Get the SROIE v2 box data.\n",
    "sroie_box_train = glob.glob('../input/sroie_v2/SROIE2019/train/box/*.txt')\n",
    "sroie_box_test = glob.glob('../input/sroie_v2/SROIE2019/test/box/*.txt')\n",
    "\n",
    "sroie_box_train.sort()\n",
    "sroie_box_test.sort()\n",
    "\n",
    "print(len(sroie_box_train))\n",
    "print(len(sroie_box_test))"
   ]
  },
  {
   "cell_type": "code",
   "execution_count": 3,
   "id": "bda8ef30-e2dc-4154-8cad-cc54ef2b86df",
   "metadata": {},
   "outputs": [
    {
     "name": "stdout",
     "output_type": "stream",
     "text": [
      "../input/sroie_v2/SROIE2019/train/box/X00016469612.txt\n",
      "['72,25,326,25,326,64,72,64,TAN WOON YANN\\n', '50,82,440,82,440,121,50,121,BOOK TA .K(TAMAN DAYA) SDN BND\\n', '205,121,285,121,285,139,205,139,789417-W\\n', '110,144,383,144,383,163,110,163,NO.53 55,57 & 59, JALAN SAGU 18,\\n', '192,169,299,169,299,187,192,187,TAMAN DAYA,\\n', '162,193,334,193,334,211,162,211,81100 JOHOR BAHRU,\\n', '217,216,275,216,275,233,217,233,JOHOR.\\n', '50,342,279,342,279,359,50,359,DOCUMENT NO : TD01167104\\n', '50,372,96,372,96,390,50,390,DATE:\\n', '165,372,342,372,342,389,165,389,25/12/2018 8:13:39 PM\\n', '48,396,117,396,117,415,48,415,CASHIER:\\n', '164,397,215,397,215,413,164,413,MANIS\\n', '49,423,122,423,122,440,49,440,MEMBER:\\n', '191,460,298,460,298,476,191,476,CASH BILL\\n', '30,508,121,508,121,523,30,523,CODE/DESC\\n', '200,507,247,507,247,521,200,521,PRICE\\n', '276,506,306,506,306,522,276,522,DISC\\n', '374,507,441,507,441,521,374,521,AMOUNT\\n', '69,531,102,531,102,550,69,550,QTY\\n', '221,531,247,531,247,545,221,545,RM\\n', '420,529,443,529,443,547,420,547,RM\\n', '27,570,137,570,137,583,27,583,9556939040116\\n', '159,570,396,570,396,584,159,584,KF MODELLING CLAY KIDDY FISH\\n', '77,598,113,598,113,613,77,613,1 PC\\n', '138,597,148,597,148,607,138,607,*\\n', '202,597,245,597,245,612,202,612,9.000\\n', '275,598,309,598,309,612,275,612,0.00\\n', '411,596,443,596,443,613,411,613,9.00\\n', '245,639,293,639,293,658,245,658,TOTAL:\\n', '118,671,291,671,291,687,118,687,ROUR DING ADJUSTMENT:\\n', '408,669,443,669,443,684,408,684,0.00\\n', '86,704,292,704,292,723,86,723,ROUND D TOTAL (RM):\\n', '401,703,443,703,443,719,401,719,9.00\\n', '205,744,243,744,243,765,205,765,CASH\\n', '402,748,441,748,441,763,402,763,10.00\\n', '205,770,271,770,271,788,205,788,CHANGE\\n', '412,772,443,772,443,786,412,786,1.00\\n', '97,845,401,845,401,860,97,860,GOODS SOLD ARE NOT RETURNABLE OR\\n', '190,864,309,864,309,880,190,880,EXCHANGEABLE\\n', '142,883,353,883,353,901,142,901,***\\n', '137,903,351,903,351,920,137,920,***\\n', '202,942,292,942,292,959,202,959,THANK YOU\\n', '163,962,330,962,330,977,163,977,PLEASE COME AGAIN !\\n', '412,639,442,639,442,654,412,654,9.00\\n']\n"
     ]
    }
   ],
   "source": [
    "print(sroie_box_train[0])\n",
    "sample_file = open(sroie_box_train[0]).readlines()\n",
    "print(sample_file)"
   ]
  },
  {
   "cell_type": "code",
   "execution_count": 4,
   "id": "53051f09-3163-4073-9988-2d7ef8790282",
   "metadata": {},
   "outputs": [
    {
     "name": "stdout",
     "output_type": "stream",
     "text": [
      "TAN WOON YANN\n",
      "BOOK TA .K(TAMAN DAYA) SDN BND\n",
      "789417-W\n",
      "NO.53 55TAMAN DAYA81100 JOHOR BAHRUJOHOR.\n",
      "DOCUMENT NO : TD01167104\n",
      "DATE:\n",
      "25/12/2018 8:13:39 PM\n",
      "CASHIER:\n",
      "MANIS\n",
      "MEMBER:\n",
      "CASH BILL\n",
      "CODE/DESC\n",
      "PRICE\n",
      "DISC\n",
      "AMOUNT\n",
      "QTY\n",
      "RM\n",
      "RM\n",
      "9556939040116\n",
      "KF MODELLING CLAY KIDDY FISH\n",
      "1 PC\n",
      "*\n",
      "9.000\n",
      "0.00\n",
      "9.00\n",
      "TOTAL:\n",
      "ROUR DING ADJUSTMENT:\n",
      "0.00\n",
      "ROUND D TOTAL (RM):\n",
      "9.00\n",
      "CASH\n",
      "10.00\n",
      "CHANGE\n",
      "1.00\n",
      "GOODS SOLD ARE NOT RETURNABLE OR\n",
      "EXCHANGEABLE\n",
      "***\n",
      "***\n",
      "THANK YOU\n",
      "PLEASE COME AGAIN !\n",
      "9.00\n",
      "\n"
     ]
    }
   ],
   "source": [
    "# The eight comma separates the bounding boxes and the content.\n",
    "final_content = ''\n",
    "for line in sample_file:\n",
    "    final_content += line.split(',')[8] \n",
    "\n",
    "print(final_content)"
   ]
  },
  {
   "cell_type": "markdown",
   "id": "d7679388-b4d2-4586-851c-7e4b8291f384",
   "metadata": {},
   "source": [
    "## Function to Calculate CER"
   ]
  },
  {
   "cell_type": "code",
   "execution_count": 5,
   "id": "8faf1263-739e-4c10-9e9c-3cb9b65bff2c",
   "metadata": {},
   "outputs": [],
   "source": [
    "def calculate_cer(sroie_boxes, ground_truth):\n",
    "    \"\"\"\n",
    "    :param sroie_boxes: List containing the box/text data from the SROIE v2 dataset\n",
    "        e.g. ['tan woon yann\\nbook ta.k', 'are not returnable or']\n",
    "    :param ground_truth: VLM generated annotations\n",
    "        e.g. ['tan woon yann\\nbook ta.k', 'are not returnable or']\n",
    "    \"\"\"\n",
    "\n",
    "    error = jiwer.cer(sroie_boxes, ground_truth)\n",
    "    print(f\"CER: {error}\")"
   ]
  },
  {
   "cell_type": "markdown",
   "id": "52be9836-d342-475a-a001-b297f4251c4e",
   "metadata": {},
   "source": [
    "## Calculate CER of Training Data"
   ]
  },
  {
   "cell_type": "code",
   "execution_count": 6,
   "id": "c2673729-bec0-47b6-8b9b-445261c926df",
   "metadata": {},
   "outputs": [],
   "source": [
    "vlm_data = []\n",
    "\n",
    "all_vlm_txt_train_paths = glob.glob('../input/qwen2_vl_2b_sroiev2_train_annots/*.txt')\n",
    "all_vlm_txt_train_paths.sort()\n",
    "\n",
    "for file_path in all_vlm_txt_train_paths:\n",
    "    data = open(file_path).read()\n",
    "    vlm_data.append(data.lower())"
   ]
  },
  {
   "cell_type": "code",
   "execution_count": 7,
   "id": "1e80b38b-5df6-4605-88e6-e823c4e6b0f9",
   "metadata": {},
   "outputs": [
    {
     "name": "stdout",
     "output_type": "stream",
     "text": [
      "['tan woon yann\\nbook ta.k (taman daya) sdn bhd\\n789-417-w\\nno.53 55,57 & 59, jalan sagu 18,\\ntaman daya, 81100 johor bahru, johor.\\ndocument no: td01167104\\ndate: 25/12/2018 8:13:39 pm\\ncashier: manis\\nmember: 9556939040118\\ncash bill\\ncode/desc\\nprice\\nrm\\namount\\n9.00\\n9.00\\ntotal\\n9.00\\nrounding adjustment\\n0.00\\n0.00\\nrounded total (rm):\\n9.00\\ncash\\n10.00\\nchange\\n1.00\\ngoods sold are not returnable or\\nexchangeable\\nplease come again!\\nthank you\\nplease come again!', 'tan woon yann']\n"
     ]
    }
   ],
   "source": [
    "print(vlm_data[:2])"
   ]
  },
  {
   "cell_type": "code",
   "execution_count": 8,
   "id": "da468d52-643b-4a44-a254-78040464631c",
   "metadata": {},
   "outputs": [],
   "source": [
    "sroie_box_data = []\n",
    "\n",
    "for file_path in sroie_box_train:\n",
    "    data = open(file_path).readlines()\n",
    "\n",
    "    final_content = ''\n",
    "    for line in data:\n",
    "        final_content += line.split(',')[8]\n",
    "    \n",
    "    sroie_box_data.append(final_content.lower())"
   ]
  },
  {
   "cell_type": "code",
   "execution_count": 9,
   "id": "06553ca6-2437-4c0c-a2a7-6ee0982151f6",
   "metadata": {},
   "outputs": [
    {
     "name": "stdout",
     "output_type": "stream",
     "text": [
      "['tan woon yann\\nbook ta .k(taman daya) sdn bnd\\n789417-w\\nno.53 55taman daya81100 johor bahrujohor.\\ndocument no : td01167104\\ndate:\\n25/12/2018 8:13:39 pm\\ncashier:\\nmanis\\nmember:\\ncash bill\\ncode/desc\\nprice\\ndisc\\namount\\nqty\\nrm\\nrm\\n9556939040116\\nkf modelling clay kiddy fish\\n1 pc\\n*\\n9.000\\n0.00\\n9.00\\ntotal:\\nrour ding adjustment:\\n0.00\\nround d total (rm):\\n9.00\\ncash\\n10.00\\nchange\\n1.00\\ngoods sold are not returnable or\\nexchangeable\\n***\\n***\\nthank you\\nplease come again !\\n9.00\\n', 'tan woon yann\\nindah gift & home deco\\n27taman johor jaya81100 johor bahrutel:07-3507405\\nfax:07-3558160\\nreceipt\\n19/10/2018 20:49:59 #01\\ncashier: cn\\nlocation/sp: 05 /0531\\nmb: mo26588\\nroom no: 01\\n050100035279\\ndesc/item\\nqty\\nprice\\namt(rm)\\nst-privilege card/gd indah\\n88888\\n1\\n10.00\\n10.00\\ngf-table lamp/stitch <i>\\n62483\\n1\\n55.90\\n55.90\\n@disc\\n10.00%\\n-5.59\\n#total qty\\n2\\ntotal amt................. rm\\n60.31\\nrounding adj............\\n-0.01\\nrm\\n60.30\\ncash.................... rm\\n70.30\\nchange.................. rm\\n10.00\\nthank you ! please come again !\\ngoods sold are not returnable\\nthank you ! flease come aosin !\\ngoods sold are not returnable\\ndealing in wholesale and retail.\\n']\n"
     ]
    }
   ],
   "source": [
    "print(sroie_box_data[:2])"
   ]
  },
  {
   "cell_type": "code",
   "execution_count": 10,
   "id": "46b06b8d-d8bd-4d28-b068-795fe57af809",
   "metadata": {},
   "outputs": [
    {
     "name": "stdout",
     "output_type": "stream",
     "text": [
      "CER: 0.5758303922942652\n"
     ]
    }
   ],
   "source": [
    "calculate_cer(sroie_box_data, vlm_data)"
   ]
  },
  {
   "cell_type": "markdown",
   "id": "75d71f24-f19e-4d08-9b80-41b860398766",
   "metadata": {},
   "source": [
    "## Calculate CER of Test Data"
   ]
  },
  {
   "cell_type": "code",
   "execution_count": 11,
   "id": "aed61e92-ab07-43af-aa4e-71c9f707906b",
   "metadata": {},
   "outputs": [],
   "source": [
    "vlm_data = []\n",
    "\n",
    "all_vlm_txt_test_paths = glob.glob('../input/qwen2_vl_2b_sroiev2_test_annots/*.txt')\n",
    "all_vlm_txt_test_paths.sort()\n",
    "\n",
    "for file_path in all_vlm_txt_test_paths:\n",
    "    data = open(file_path).read()\n",
    "    vlm_data.append(data.lower())"
   ]
  },
  {
   "cell_type": "code",
   "execution_count": 13,
   "id": "dcd69743-a371-45f3-9c68-80c8ce497b11",
   "metadata": {},
   "outputs": [
    {
     "name": "stdout",
     "output_type": "stream",
     "text": [
      "347\n"
     ]
    }
   ],
   "source": [
    "print(len(vlm_data))"
   ]
  },
  {
   "cell_type": "code",
   "execution_count": 12,
   "id": "ed5b8a6d-f4d6-4461-8c2f-55d9702e92f2",
   "metadata": {},
   "outputs": [
    {
     "name": "stdout",
     "output_type": "stream",
     "text": [
      "['***copy***\\n\\nojc marketing sdn bhd\\n\\nroc no: 538358-h\\n\\nno 2 & 4, jalan bayu 4, bandar seri alam, 81750 masai, johor\\n\\ntel:07-388 2218 fax:07-388 8218\\n\\nemail: ng@ojcgroup.com\\n\\ntax invoice\\n\\ninvoice no: pegiv-1030765\\n\\ndate: 15/01/2019 11:05:16 am\\n\\ncashier: ng chuan min\\n\\nsales person: fatin\\n\\nbill to: the peak quarry works\\n\\naddress:kings safety shoes kwd b05(35,552),(995,995)', 'tan chay yee']\n"
     ]
    }
   ],
   "source": [
    "print(vlm_data[:2])"
   ]
  },
  {
   "cell_type": "code",
   "execution_count": 34,
   "id": "f0cc7ae6-f27f-4ba0-b6e7-d625c95d9568",
   "metadata": {
    "scrolled": true
   },
   "outputs": [
    {
     "name": "stdout",
     "output_type": "stream",
     "text": [
      "Erroneous index: 149\n",
      "Erroneous index: 230\n"
     ]
    }
   ],
   "source": [
    "sroie_box_data = []\n",
    "\n",
    "for i, file_path in enumerate(sroie_box_test):\n",
    "    # Try-except because there are a few emtpy files and an\n",
    "    # UTF-8 encoding error in one of the files.\n",
    "    try:\n",
    "        data = open(file_path).readlines()\n",
    "        final_content = ''\n",
    "        for line in data:\n",
    "            final_content += line.split(',')[8]\n",
    "        \n",
    "        sroie_box_data.append(final_content.lower())\n",
    "    except:\n",
    "        # sroie_box_data.append('\\n')\n",
    "        print(f\"Erroneous index: {i}\")"
   ]
  },
  {
   "cell_type": "code",
   "execution_count": 35,
   "id": "cbe43a6f-b1b6-4e66-8691-d5c96c2803c0",
   "metadata": {},
   "outputs": [
    {
     "name": "stdout",
     "output_type": "stream",
     "text": [
      "345\n"
     ]
    }
   ],
   "source": [
    "print(len(sroie_box_data))"
   ]
  },
  {
   "cell_type": "code",
   "execution_count": 36,
   "id": "24b47035-e1d7-4777-82d1-ea05852a8288",
   "metadata": {},
   "outputs": [
    {
     "data": {
      "text/plain": [
       "'kedai ubat & runcit hong ning sdn. bhd. (717833-p) (gst id no : 002006163456) no.8, jalan lang kuning, kepong baru, 52100 kuala lumpur. tel: 03-6273 2163 bill no : pos/268511 date : 24/12/16 2:28:22 pm cashier : admin payment : cash item qty price amount yi jin plan @2.83 g5 1 3.00 3.00 sr. tian qi @18.87 st100 1 20.00 20.00 sr. gardenia cr-choclt @0.80 955664132 1 0.85 0.85 sr. massimo due-coffee @0.80 955675553 1 0.85 0.85 sr. massimo due-coffee @0.80 955675553 1 0.85 0.85 sr. new form @ gst 6% : 75.55 cash paid : 25.55 card paid : 0.00 change : 0.00 round adj. : 0.00 gst summary amount tax sr. @ 6% 24.10 1.45 thank you please come again'"
      ]
     },
     "execution_count": 36,
     "metadata": {},
     "output_type": "execute_result"
    }
   ],
   "source": [
    "# Pop the data from the same indices in the VLM generated data.\n",
    "vlm_data.pop(149)\n",
    "vlm_data.pop(230)"
   ]
  },
  {
   "cell_type": "code",
   "execution_count": 37,
   "id": "3c6fb3e8-3f33-4a75-8275-282a2cf0857a",
   "metadata": {},
   "outputs": [
    {
     "name": "stdout",
     "output_type": "stream",
     "text": [
      "CER: 0.5829631883176148\n"
     ]
    }
   ],
   "source": [
    "calculate_cer(sroie_box_data, vlm_data)"
   ]
  },
  {
   "cell_type": "code",
   "execution_count": null,
   "id": "ea41cc24-3df5-474b-916f-917539c8fc6f",
   "metadata": {},
   "outputs": [],
   "source": []
  }
 ],
 "metadata": {
  "kernelspec": {
   "display_name": "Python 3 (ipykernel)",
   "language": "python",
   "name": "python3"
  },
  "language_info": {
   "codemirror_mode": {
    "name": "ipython",
    "version": 3
   },
   "file_extension": ".py",
   "mimetype": "text/x-python",
   "name": "python",
   "nbconvert_exporter": "python",
   "pygments_lexer": "ipython3",
   "version": "3.11.11"
  }
 },
 "nbformat": 4,
 "nbformat_minor": 5
}
