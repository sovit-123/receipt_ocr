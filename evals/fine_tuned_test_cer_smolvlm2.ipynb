{
 "cells": [
  {
   "cell_type": "markdown",
   "id": "e3587f58-0355-4952-b734-56e69d43e0ac",
   "metadata": {},
   "source": [
    "# Introduction\n",
    "\n",
    "Calculating the CER by taking the results from the fine-tuned SmolVLM model and comparing them with the Qwen2-VL 2B annotations."
   ]
  },
  {
   "cell_type": "code",
   "execution_count": 1,
   "id": "57ff84a6-c59f-4e12-9fd3-c94c21ad3a92",
   "metadata": {},
   "outputs": [],
   "source": [
    "import glob\n",
    "import jiwer\n",
    "import torch\n",
    "import os\n",
    "\n",
    "from transformers import AutoModelForImageTextToText, AutoProcessor\n",
    "from tqdm.auto import tqdm\n",
    "from PIL import Image"
   ]
  },
  {
   "cell_type": "code",
   "execution_count": 2,
   "id": "39dfaf3b-38cc-4c47-a8d5-59e021c63680",
   "metadata": {},
   "outputs": [],
   "source": [
    "os.environ['TOKENIZERS_PARALLELISM'] = 'false'"
   ]
  },
  {
   "cell_type": "markdown",
   "id": "32a31c91-8461-46a0-973a-79ca339188f8",
   "metadata": {},
   "source": [
    "## Calculate CER for Test Data using Trained Model"
   ]
  },
  {
   "cell_type": "code",
   "execution_count": 3,
   "id": "fbf99123-e0b5-4dfc-a42a-47795c54283a",
   "metadata": {},
   "outputs": [],
   "source": [
    "# Get the text from the Qwen VL annotations.\n",
    "vlm_data = []\n",
    "\n",
    "all_vlm_txt_test_paths = glob.glob('../input/qwen2_5_vl_3b_annots/test_annots/*.txt')\n",
    "all_vlm_txt_test_paths.sort()\n",
    "\n",
    "for file_path in all_vlm_txt_test_paths:\n",
    "    data = open(file_path).read()\n",
    "    vlm_data.append(data.lower())"
   ]
  },
  {
   "cell_type": "code",
   "execution_count": 4,
   "id": "36055746-41f6-4f8e-b23f-1a67df1baf4c",
   "metadata": {},
   "outputs": [],
   "source": [
    "model_id = '../notebooks/trained_models/full_ft/smolvlm2_256m_fullft_qwen2_5_vl_3b_gt_20250505/'"
   ]
  },
  {
   "cell_type": "code",
   "execution_count": 5,
   "id": "3d049339-1ced-4e71-90ed-39391895227c",
   "metadata": {},
   "outputs": [],
   "source": [
    "model = AutoModelForImageTextToText.from_pretrained(\n",
    "    model_id,\n",
    "    device_map='auto',\n",
    "    torch_dtype=torch.bfloat16,\n",
    "    _attn_implementation='flash_attention_2' # Use `flash_attention_2` on Ampere GPUs and above and `eager` on older GPUs.\n",
    "    # _attn_implementation='eager', # Use `flash_attention_2` on Ampere GPUs and above and `eager` on older GPUs.\n",
    ")\n",
    "\n",
    "processor = AutoProcessor.from_pretrained(model_id)"
   ]
  },
  {
   "cell_type": "markdown",
   "id": "25c0ec54-c1a0-4226-8cb3-07d21737a7cf",
   "metadata": {},
   "source": [
    "## Inference Function"
   ]
  },
  {
   "cell_type": "code",
   "execution_count": 6,
   "id": "bc454fb2-5b53-42df-9631-43b133d79593",
   "metadata": {},
   "outputs": [],
   "source": [
    "def test(model, processor, batch, max_new_tokens=500, device='cuda'):\n",
    "    messages = []\n",
    "\n",
    "    for i, data in enumerate(batch):\n",
    "        message = [\n",
    "            {\n",
    "                'role': 'user',\n",
    "                'content': [\n",
    "                    {'type': 'image', 'url': data},\n",
    "                    {'type': 'text', 'text': 'OCR this image accurately'}\n",
    "                ]\n",
    "            },\n",
    "        ]\n",
    "        messages.append(message)\n",
    "    \n",
    "    # Prepare the text input by applying the chat template\n",
    "    model_inputs = processor.apply_chat_template(\n",
    "        messages,  # Use the sample without the system message\n",
    "        add_generation_prompt=True,\n",
    "        padding=True,\n",
    "        padding_side='left',\n",
    "        return_tensors='pt',\n",
    "        tokenize=True,\n",
    "        return_dict=True\n",
    "    ).to(device, dtype=torch.bfloat16)\n",
    "\n",
    "    # Generate text with the model\n",
    "    generated_ids = model.generate(**model_inputs, max_new_tokens=max_new_tokens)\n",
    "\n",
    "    # Trim the generated ids to remove the input ids\n",
    "    trimmed_generated_ids = [\n",
    "        out_ids[len(in_ids):] for in_ids, out_ids in zip(model_inputs.input_ids, generated_ids)\n",
    "    ]\n",
    "\n",
    "    # Decode the output text\n",
    "    output_text = processor.batch_decode(\n",
    "        trimmed_generated_ids,\n",
    "        skip_special_tokens=True,\n",
    "        clean_up_tokenization_spaces=False\n",
    "    )\n",
    "\n",
    "    return output_text"
   ]
  },
  {
   "cell_type": "markdown",
   "id": "391d94f0-cfc7-4bd9-8eaf-9cd2f46bb081",
   "metadata": {},
   "source": [
    "## Create Batches"
   ]
  },
  {
   "cell_type": "code",
   "execution_count": 7,
   "id": "4112d459-173d-4f49-9e70-2f7b66ecfb86",
   "metadata": {},
   "outputs": [],
   "source": [
    "from torch.utils.data import Dataset, DataLoader"
   ]
  },
  {
   "cell_type": "code",
   "execution_count": 8,
   "id": "4c9eee92-8de3-4c54-aad2-288c15bf530c",
   "metadata": {},
   "outputs": [
    {
     "name": "stdout",
     "output_type": "stream",
     "text": [
      "347\n"
     ]
    }
   ],
   "source": [
    "# SROIE images from the original dataset.\n",
    "all_image_paths = glob.glob('../input/sroie_v2/SROIE2019/test/img/*.jpg')\n",
    "all_image_paths.sort()\n",
    "print(len(all_image_paths))"
   ]
  },
  {
   "cell_type": "code",
   "execution_count": 9,
   "id": "472bea47-ff99-406d-9066-f3d58b91400a",
   "metadata": {},
   "outputs": [],
   "source": [
    "class CustomData(Dataset):\n",
    "    def __init__(self, image_paths):\n",
    "        self.image_paths = image_paths\n",
    "\n",
    "    def __len__(self):\n",
    "        return len(self.image_paths)\n",
    "\n",
    "    def __getitem__(self, idx):\n",
    "        return self.image_paths[idx]"
   ]
  },
  {
   "cell_type": "code",
   "execution_count": 10,
   "id": "55ef3803-114a-4cfc-b455-47d86a24fafe",
   "metadata": {},
   "outputs": [],
   "source": [
    "batch_size = 16"
   ]
  },
  {
   "cell_type": "code",
   "execution_count": 11,
   "id": "4474a587-e02d-48ac-8d52-c811cfdc6d32",
   "metadata": {},
   "outputs": [],
   "source": [
    "dataset = CustomData(all_image_paths)\n",
    "batched_dl = DataLoader(\n",
    "    dataset=dataset, \n",
    "    batch_size=batch_size, \n",
    "    shuffle=False, \n",
    "    num_workers=4\n",
    ")"
   ]
  },
  {
   "cell_type": "code",
   "execution_count": 12,
   "id": "b4d1ca34-b792-47e4-9f8a-b5ea9466e44e",
   "metadata": {},
   "outputs": [
    {
     "name": "stdout",
     "output_type": "stream",
     "text": [
      "22\n"
     ]
    }
   ],
   "source": [
    "print(len(batched_dl))"
   ]
  },
  {
   "cell_type": "code",
   "execution_count": 13,
   "id": "db9e9396-eaf9-48ea-805a-a18917dfd186",
   "metadata": {},
   "outputs": [
    {
     "data": {
      "application/vnd.jupyter.widget-view+json": {
       "model_id": "2de18a3a32874c9ba8f0ecdc074cd4d9",
       "version_major": 2,
       "version_minor": 0
      },
      "text/plain": [
       "  0%|          | 0/22 [00:00<?, ?it/s]"
      ]
     },
     "metadata": {},
     "output_type": "display_data"
    }
   ],
   "source": [
    "inference_results = []\n",
    "\n",
    "for i, batch in tqdm(enumerate(batched_dl), total=len(batched_dl)):\n",
    "    # if i == 1:\n",
    "    #     break\n",
    "\n",
    "    outputs = test(model, processor, batch)\n",
    "    # print(outputs)\n",
    "\n",
    "    for output in outputs:\n",
    "        inference_results.append(output.lower())"
   ]
  },
  {
   "cell_type": "code",
   "execution_count": 14,
   "id": "216394b5-d620-4aed-a1e5-8b7c32b4eee5",
   "metadata": {},
   "outputs": [
    {
     "name": "stdout",
     "output_type": "stream",
     "text": [
      "347\n"
     ]
    }
   ],
   "source": [
    "print(len(inference_results))"
   ]
  },
  {
   "cell_type": "markdown",
   "id": "fc006527-b42c-43fc-aee5-f4e445aa5534",
   "metadata": {},
   "source": [
    "## Function to Calculate CER"
   ]
  },
  {
   "cell_type": "code",
   "execution_count": 15,
   "id": "14e5ec29-c496-40aa-a5f8-72ed061019bd",
   "metadata": {},
   "outputs": [],
   "source": [
    "def calculate_cer(ground_truth, results):\n",
    "    \"\"\"\n",
    "    :param ground_truth: List containing the ground truth data\n",
    "        e.g. ['tan woon yann\\nbook ta.k', 'are not returnable or']\n",
    "    :param results: VLM generated results\n",
    "        e.g. ['tan woon yann\\nbook ta.k', 'are not returnable or']\n",
    "    \"\"\"\n",
    "\n",
    "    # Remove elements when ground truth has empty string elements.\n",
    "    for i, gt in enumerate(ground_truth):\n",
    "        if len(gt) == 0:\n",
    "            ground_truth.pop(i)\n",
    "            results.pop(i)\n",
    "    \n",
    "    error = jiwer.cer(ground_truth, results)\n",
    "    print(f\"CER: {error}\")"
   ]
  },
  {
   "cell_type": "code",
   "execution_count": 16,
   "id": "06295e16-21b2-4bdf-8d27-541b7dba07a1",
   "metadata": {},
   "outputs": [
    {
     "name": "stdout",
     "output_type": "stream",
     "text": [
      "CER: 0.2399265156154317\n"
     ]
    }
   ],
   "source": [
    "calculate_cer(vlm_data, inference_results)"
   ]
  },
  {
   "cell_type": "code",
   "execution_count": null,
   "id": "0ded326d-a6e5-4238-b9a8-7f5a4fa17059",
   "metadata": {},
   "outputs": [],
   "source": []
  },
  {
   "cell_type": "code",
   "execution_count": null,
   "id": "f0c0aafb-7574-406a-a0c2-6868e09876c3",
   "metadata": {},
   "outputs": [],
   "source": []
  }
 ],
 "metadata": {
  "kernelspec": {
   "display_name": "Python 3 (ipykernel)",
   "language": "python",
   "name": "python3"
  },
  "language_info": {
   "codemirror_mode": {
    "name": "ipython",
    "version": 3
   },
   "file_extension": ".py",
   "mimetype": "text/x-python",
   "name": "python",
   "nbconvert_exporter": "python",
   "pygments_lexer": "ipython3",
   "version": "3.11.11"
  }
 },
 "nbformat": 4,
 "nbformat_minor": 5
}
