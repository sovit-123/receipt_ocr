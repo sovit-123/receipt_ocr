{
 "cells": [
  {
   "cell_type": "markdown",
   "id": "e3587f58-0355-4952-b734-56e69d43e0ac",
   "metadata": {},
   "source": [
    "# Introduction\n",
    "\n",
    "Calculating the CER by taking the results from the fine-tuned SmolVLM model and comparing them with the Qwen2-VL 2B annotations."
   ]
  },
  {
   "cell_type": "code",
   "execution_count": 1,
   "id": "57ff84a6-c59f-4e12-9fd3-c94c21ad3a92",
   "metadata": {},
   "outputs": [],
   "source": [
    "import glob\n",
    "import jiwer\n",
    "import torch\n",
    "\n",
    "from transformers import AutoModelForVision2Seq, AutoProcessor\n",
    "from tqdm.auto import tqdm\n",
    "from PIL import Image"
   ]
  },
  {
   "cell_type": "markdown",
   "id": "b9058be4-e702-4c0a-b121-02e072904730",
   "metadata": {},
   "source": [
    "## Function to Calculate CER"
   ]
  },
  {
   "cell_type": "code",
   "execution_count": 2,
   "id": "5d34bbbe-7eb5-404b-991b-1eb2141ad09d",
   "metadata": {},
   "outputs": [],
   "source": [
    "def calculate_cer(sroie_boxes, ground_truth):\n",
    "    \"\"\"\n",
    "    :param sroie_boxes: List containing the box/text data from the SROIE v2 dataset\n",
    "        e.g. ['tan woon yann\\nbook ta.k', 'are not returnable or']\n",
    "    :param ground_truth: VLM generated annotations\n",
    "        e.g. ['tan woon yann\\nbook ta.k', 'are not returnable or']\n",
    "    \"\"\"\n",
    "\n",
    "    error = jiwer.cer(sroie_boxes, ground_truth)\n",
    "    print(f\"CER: {error}\")"
   ]
  },
  {
   "cell_type": "markdown",
   "id": "32a31c91-8461-46a0-973a-79ca339188f8",
   "metadata": {},
   "source": [
    "## Calculate CER for Test Data using Trained Model"
   ]
  },
  {
   "cell_type": "code",
   "execution_count": 3,
   "id": "fbf99123-e0b5-4dfc-a42a-47795c54283a",
   "metadata": {},
   "outputs": [],
   "source": [
    "# Get the text from the Qwen VL annotations.\n",
    "vlm_data = []\n",
    "\n",
    "all_vlm_txt_test_paths = glob.glob('../input/qwen2_vl_2b_sroiev2_test_annots/*.txt')\n",
    "all_vlm_txt_test_paths.sort()\n",
    "\n",
    "for file_path in all_vlm_txt_test_paths:\n",
    "    data = open(file_path).read()\n",
    "    vlm_data.append(data.lower())"
   ]
  },
  {
   "cell_type": "markdown",
   "id": "eaad2642-6b3a-41c1-ac55-5d4bcf4e0047",
   "metadata": {},
   "source": [
    "Inference using the trained model."
   ]
  },
  {
   "cell_type": "code",
   "execution_count": 4,
   "id": "36055746-41f6-4f8e-b23f-1a67df1baf4c",
   "metadata": {},
   "outputs": [],
   "source": [
    "model_id = \"HuggingFaceTB/SmolVLM-256M-Instruct\""
   ]
  },
  {
   "cell_type": "code",
   "execution_count": 5,
   "id": "3d049339-1ced-4e71-90ed-39391895227c",
   "metadata": {},
   "outputs": [],
   "source": [
    "model = AutoModelForVision2Seq.from_pretrained(\n",
    "    model_id,\n",
    "    device_map=\"auto\",\n",
    "    torch_dtype=torch.bfloat16,\n",
    "    _attn_implementation=\"flash_attention_2\" # Use `flash_attention_2` on Ampere GPUs and above and `eager` on older GPUs.\n",
    "    # _attn_implementation=\"eager\", # Use `flash_attention_2` on Ampere GPUs and above and `eager` on older GPUs.\n",
    ")\n",
    "\n",
    "processor = AutoProcessor.from_pretrained(model_id)"
   ]
  },
  {
   "cell_type": "code",
   "execution_count": 6,
   "id": "fb1ee02b-e7f3-4eae-93cf-d4eec2cd6024",
   "metadata": {},
   "outputs": [],
   "source": [
    "adapter_path = \"../notebooks/trained_adapters/smolvlm_receipt_qwengt_ft/\"\n",
    "model.load_adapter(adapter_path)"
   ]
  },
  {
   "cell_type": "code",
   "execution_count": 7,
   "id": "4c9eee92-8de3-4c54-aad2-288c15bf530c",
   "metadata": {},
   "outputs": [
    {
     "name": "stdout",
     "output_type": "stream",
     "text": [
      "347\n"
     ]
    }
   ],
   "source": [
    "all_image_paths = glob.glob('../input/sroie_v2/SROIE2019/test/img/*.jpg')\n",
    "all_image_paths.sort()\n",
    "print(len(all_image_paths))"
   ]
  },
  {
   "cell_type": "code",
   "execution_count": 8,
   "id": "bc454fb2-5b53-42df-9631-43b133d79593",
   "metadata": {},
   "outputs": [],
   "source": [
    "def test(model, processor, image, max_new_tokens=500, device=\"cuda\"):\n",
    "    messages = [\n",
    "        {\n",
    "            \"role\": \"user\",\n",
    "            \"content\": [\n",
    "                {\"type\": \"image\"},\n",
    "                {\"type\": \"text\", \"text\": \"OCR this image accurately\"}\n",
    "            ]\n",
    "        },\n",
    "    ]\n",
    "    \n",
    "    # Prepare the text input by applying the chat template\n",
    "    text_input = processor.apply_chat_template(\n",
    "        messages,  # Use the sample without the system message\n",
    "        add_generation_prompt=True\n",
    "    )\n",
    "\n",
    "    image_inputs = []\n",
    "    if image.mode != 'RGB':\n",
    "        image = image.convert('RGB')\n",
    "        \n",
    "    image_inputs.append([image])\n",
    "\n",
    "    # Prepare the inputs for the model\n",
    "    model_inputs = processor(\n",
    "        #text=[text_input],\n",
    "        text=text_input,\n",
    "        images=image_inputs,\n",
    "        return_tensors=\"pt\",\n",
    "    ).to(device)  # Move inputs to the specified device\n",
    "\n",
    "    # Generate text with the model\n",
    "    generated_ids = model.generate(**model_inputs, max_new_tokens=max_new_tokens)\n",
    "\n",
    "    # Trim the generated ids to remove the input ids\n",
    "    trimmed_generated_ids = [\n",
    "        out_ids[len(in_ids):] for in_ids, out_ids in zip(model_inputs.input_ids, generated_ids)\n",
    "    ]\n",
    "\n",
    "    # Decode the output text\n",
    "    output_text = processor.batch_decode(\n",
    "        trimmed_generated_ids,\n",
    "        skip_special_tokens=True,\n",
    "        clean_up_tokenization_spaces=False\n",
    "    )\n",
    "\n",
    "    return output_text[0]  # Return the first decoded output text"
   ]
  },
  {
   "cell_type": "code",
   "execution_count": 9,
   "id": "db9e9396-eaf9-48ea-805a-a18917dfd186",
   "metadata": {
    "scrolled": true
   },
   "outputs": [
    {
     "data": {
      "application/vnd.jupyter.widget-view+json": {
       "model_id": "63dcf796e7654cac854748e8dc0271a0",
       "version_major": 2,
       "version_minor": 0
      },
      "text/plain": [
       "  0%|          | 0/347 [00:00<?, ?it/s]"
      ]
     },
     "metadata": {},
     "output_type": "display_data"
    }
   ],
   "source": [
    "inference_results = []\n",
    "\n",
    "for i, image_path in tqdm(enumerate(all_image_paths), total=len(all_image_paths)):\n",
    "    # if i == 2:\n",
    "    #     break\n",
    "    image = Image.open(image_path).convert('RGB')\n",
    "    image = image.resize((512, 768))\n",
    "\n",
    "    output = test(model, processor, image)\n",
    "\n",
    "    inference_results.append(output)"
   ]
  },
  {
   "cell_type": "code",
   "execution_count": 10,
   "id": "06295e16-21b2-4bdf-8d27-541b7dba07a1",
   "metadata": {},
   "outputs": [
    {
     "name": "stdout",
     "output_type": "stream",
     "text": [
      "CER: 0.9499435473283445\n"
     ]
    }
   ],
   "source": [
    "calculate_cer(vlm_data, inference_results)"
   ]
  }
 ],
 "metadata": {
  "kernelspec": {
   "display_name": "Python 3 (ipykernel)",
   "language": "python",
   "name": "python3"
  },
  "language_info": {
   "codemirror_mode": {
    "name": "ipython",
    "version": 3
   },
   "file_extension": ".py",
   "mimetype": "text/x-python",
   "name": "python",
   "nbconvert_exporter": "python",
   "pygments_lexer": "ipython3",
   "version": "3.11.11"
  }
 },
 "nbformat": 4,
 "nbformat_minor": 5
}
